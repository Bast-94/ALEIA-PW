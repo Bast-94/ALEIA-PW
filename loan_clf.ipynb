{
 "cells": [
  {
   "cell_type": "markdown",
   "metadata": {},
   "source": [
    "## Imports"
   ]
  },
  {
   "cell_type": "code",
   "execution_count": 2170,
   "metadata": {},
   "outputs": [],
   "source": [
    "import os\n",
    "import numpy as np\n",
    "import pandas as pd\n",
    "from sklearn.model_selection import train_test_split\n",
    "import matplotlib.pyplot as plt\n",
    "import seaborn as sns\n",
    "%matplotlib inline\n",
    "#from aleialib.s3 import load_file"
   ]
  },
  {
   "cell_type": "code",
   "execution_count": 2171,
   "metadata": {},
   "outputs": [
    {
     "data": {
      "text/plain": [
       "(18516, 43)"
      ]
     },
     "execution_count": 2171,
     "metadata": {},
     "output_type": "execute_result"
    }
   ],
   "source": [
    "df = pd.read_csv('Data_Finance_TrainEtVal_13Nov23.csv', sep=';')\n",
    "df.shape"
   ]
  },
  {
   "cell_type": "markdown",
   "metadata": {},
   "source": [
    "## Visualisation de nos données"
   ]
  },
  {
   "cell_type": "code",
   "execution_count": 2172,
   "metadata": {},
   "outputs": [
    {
     "data": {
      "text/html": [
       "<div>\n",
       "<style scoped>\n",
       "    .dataframe tbody tr th:only-of-type {\n",
       "        vertical-align: middle;\n",
       "    }\n",
       "\n",
       "    .dataframe tbody tr th {\n",
       "        vertical-align: top;\n",
       "    }\n",
       "\n",
       "    .dataframe thead th {\n",
       "        text-align: right;\n",
       "    }\n",
       "</style>\n",
       "<table border=\"1\" class=\"dataframe\">\n",
       "  <thead>\n",
       "    <tr style=\"text-align: right;\">\n",
       "      <th></th>\n",
       "      <th>Id</th>\n",
       "      <th>GENR</th>\n",
       "      <th>produit</th>\n",
       "      <th>age du bien</th>\n",
       "      <th>mode de paiement</th>\n",
       "      <th>montant demande (centimes)</th>\n",
       "      <th>delai paiement</th>\n",
       "      <th>apport</th>\n",
       "      <th>apport %</th>\n",
       "      <th>date demande</th>\n",
       "      <th>...</th>\n",
       "      <th>impayes</th>\n",
       "      <th>charge</th>\n",
       "      <th>fichage3</th>\n",
       "      <th>revenus</th>\n",
       "      <th>secteur activite</th>\n",
       "      <th>code postal</th>\n",
       "      <th>Chiffre d'affaires</th>\n",
       "      <th>Capital social</th>\n",
       "      <th>Indicatrice</th>\n",
       "      <th>Label</th>\n",
       "    </tr>\n",
       "  </thead>\n",
       "  <tbody>\n",
       "    <tr>\n",
       "      <th>0</th>\n",
       "      <td>4212339</td>\n",
       "      <td>VP</td>\n",
       "      <td>LLD</td>\n",
       "      <td>0</td>\n",
       "      <td>10</td>\n",
       "      <td>4967310</td>\n",
       "      <td>10</td>\n",
       "      <td>0</td>\n",
       "      <td>0.0</td>\n",
       "      <td>04/01/2010 09:59</td>\n",
       "      <td>...</td>\n",
       "      <td>0</td>\n",
       "      <td>0</td>\n",
       "      <td>0</td>\n",
       "      <td>0</td>\n",
       "      <td>77</td>\n",
       "      <td>95100</td>\n",
       "      <td>0</td>\n",
       "      <td>200000</td>\n",
       "      <td>0</td>\n",
       "      <td>Train</td>\n",
       "    </tr>\n",
       "    <tr>\n",
       "      <th>1</th>\n",
       "      <td>4212408</td>\n",
       "      <td>VP</td>\n",
       "      <td>CB</td>\n",
       "      <td>0</td>\n",
       "      <td>10</td>\n",
       "      <td>1228763</td>\n",
       "      <td>0</td>\n",
       "      <td>245753</td>\n",
       "      <td>20.0</td>\n",
       "      <td>04/01/2010 10:58</td>\n",
       "      <td>...</td>\n",
       "      <td>0</td>\n",
       "      <td>0</td>\n",
       "      <td>0</td>\n",
       "      <td>100000</td>\n",
       "      <td>41</td>\n",
       "      <td>93600</td>\n",
       "      <td>0</td>\n",
       "      <td>750000</td>\n",
       "      <td>0</td>\n",
       "      <td>Train</td>\n",
       "    </tr>\n",
       "    <tr>\n",
       "      <th>2</th>\n",
       "      <td>4212504</td>\n",
       "      <td>VU</td>\n",
       "      <td>CB</td>\n",
       "      <td>0</td>\n",
       "      <td>10</td>\n",
       "      <td>1262250</td>\n",
       "      <td>0</td>\n",
       "      <td>189338</td>\n",
       "      <td>15.0</td>\n",
       "      <td>04/01/2010 12:44</td>\n",
       "      <td>...</td>\n",
       "      <td>0</td>\n",
       "      <td>0</td>\n",
       "      <td>0</td>\n",
       "      <td>100000</td>\n",
       "      <td>43</td>\n",
       "      <td>47130</td>\n",
       "      <td>0</td>\n",
       "      <td>500000</td>\n",
       "      <td>0</td>\n",
       "      <td>Train</td>\n",
       "    </tr>\n",
       "    <tr>\n",
       "      <th>3</th>\n",
       "      <td>4212509</td>\n",
       "      <td></td>\n",
       "      <td>LLD</td>\n",
       "      <td>0</td>\n",
       "      <td>10</td>\n",
       "      <td>1500000</td>\n",
       "      <td>10</td>\n",
       "      <td>0</td>\n",
       "      <td>0.0</td>\n",
       "      <td>04/01/2010 13:19</td>\n",
       "      <td>...</td>\n",
       "      <td>0</td>\n",
       "      <td>0</td>\n",
       "      <td>0</td>\n",
       "      <td>400000</td>\n",
       "      <td>66</td>\n",
       "      <td>67500</td>\n",
       "      <td>0</td>\n",
       "      <td>1000000</td>\n",
       "      <td>0</td>\n",
       "      <td>Train</td>\n",
       "    </tr>\n",
       "    <tr>\n",
       "      <th>4</th>\n",
       "      <td>4212561</td>\n",
       "      <td>VU</td>\n",
       "      <td>LLD</td>\n",
       "      <td>0</td>\n",
       "      <td>10</td>\n",
       "      <td>2393850</td>\n",
       "      <td>10</td>\n",
       "      <td>0</td>\n",
       "      <td>0.0</td>\n",
       "      <td>04/01/2010 14:43</td>\n",
       "      <td>...</td>\n",
       "      <td>0</td>\n",
       "      <td>0</td>\n",
       "      <td>0</td>\n",
       "      <td>300000</td>\n",
       "      <td>49</td>\n",
       "      <td>60110</td>\n",
       "      <td>0</td>\n",
       "      <td>750000</td>\n",
       "      <td>0</td>\n",
       "      <td>Train</td>\n",
       "    </tr>\n",
       "  </tbody>\n",
       "</table>\n",
       "<p>5 rows × 43 columns</p>\n",
       "</div>"
      ],
      "text/plain": [
       "        Id GENR produit  age du bien  mode de paiement  \\\n",
       "0  4212339   VP     LLD            0                10   \n",
       "1  4212408   VP      CB            0                10   \n",
       "2  4212504   VU      CB            0                10   \n",
       "3  4212509          LLD            0                10   \n",
       "4  4212561   VU     LLD            0                10   \n",
       "\n",
       "   montant demande (centimes)  delai paiement  apport  apport %  \\\n",
       "0                     4967310              10       0       0.0   \n",
       "1                     1228763               0  245753      20.0   \n",
       "2                     1262250               0  189338      15.0   \n",
       "3                     1500000              10       0       0.0   \n",
       "4                     2393850              10       0       0.0   \n",
       "\n",
       "       date demande  ...  impayes charge fichage3 revenus secteur activite  \\\n",
       "0  04/01/2010 09:59  ...        0      0        0       0               77   \n",
       "1  04/01/2010 10:58  ...        0      0        0  100000               41   \n",
       "2  04/01/2010 12:44  ...        0      0        0  100000               43   \n",
       "3  04/01/2010 13:19  ...        0      0        0  400000               66   \n",
       "4  04/01/2010 14:43  ...        0      0        0  300000               49   \n",
       "\n",
       "  code postal Chiffre d'affaires Capital social Indicatrice  Label  \n",
       "0       95100                  0         200000           0  Train  \n",
       "1       93600                  0         750000           0  Train  \n",
       "2       47130                  0         500000           0  Train  \n",
       "3       67500                  0        1000000           0  Train  \n",
       "4       60110                  0         750000           0  Train  \n",
       "\n",
       "[5 rows x 43 columns]"
      ]
     },
     "execution_count": 2172,
     "metadata": {},
     "output_type": "execute_result"
    }
   ],
   "source": [
    "df.head()"
   ]
  },
  {
   "cell_type": "code",
   "execution_count": 2173,
   "metadata": {},
   "outputs": [
    {
     "data": {
      "image/png": "[encoded data removed]",
      "text/plain": [
       "<Figure size 640x480 with 1 Axes>"
      ]
     },
     "metadata": {},
     "output_type": "display_data"
    }
   ],
   "source": [
    "# repartition of the target variable indicatrice\n",
    "sns.countplot(x='Indicatrice', data=df)\n",
    "plt.show()"
   ]
  },
  {
   "cell_type": "markdown",
   "metadata": {},
   "source": [
    "On remarque un énorme déséquilibre de classes dans notre dataset: plus de 95% des données sont de la classe 0."
   ]
  },
  {
   "cell_type": "code",
   "execution_count": 2174,
   "metadata": {},
   "outputs": [
    {
     "data": {
      "text/plain": [
       "(11804, 43)"
      ]
     },
     "execution_count": 2174,
     "metadata": {},
     "output_type": "execute_result"
    }
   ],
   "source": [
    "df[df['Label'] == 'Train'].shape"
   ]
  },
  {
   "cell_type": "code",
   "execution_count": 2175,
   "metadata": {},
   "outputs": [
    {
     "data": {
      "text/plain": [
       "(6712, 43)"
      ]
     },
     "execution_count": 2175,
     "metadata": {},
     "output_type": "execute_result"
    }
   ],
   "source": [
    "df[df['Label'] == 'Validation'].shape"
   ]
  },
  {
   "cell_type": "markdown",
   "metadata": {},
   "source": [
    "Notre dataset est composé de deux sets de données : un set d'entrainement (11804 entrées) et un set de test (6712 entrées)."
   ]
  },
  {
   "cell_type": "code",
   "execution_count": 2176,
   "metadata": {},
   "outputs": [
    {
     "name": "stdout",
     "output_type": "stream",
     "text": [
      "Number of numerical variables:  21\n",
      "Number of categorical variables:  22\n"
     ]
    }
   ],
   "source": [
    "# number of numerical and categorical variables\n",
    "print('Number of numerical variables: ', len(df.select_dtypes(include=['float64', 'int64']).columns))\n",
    "print('Number of categorical variables: ', len(df.select_dtypes(include=['object']).columns))"
   ]
  },
  {
   "cell_type": "markdown",
   "metadata": {},
   "source": [
    "## Data cleaning"
   ]
  },
  {
   "cell_type": "code",
   "execution_count": 2177,
   "metadata": {},
   "outputs": [
    {
     "data": {
      "text/plain": [
       "segmentation    1959\n",
       "dtype: int64"
      ]
     },
     "execution_count": 2177,
     "metadata": {},
     "output_type": "execute_result"
    }
   ],
   "source": [
    "# print columns with missing data\n",
    "df.isnull().sum()[df.isnull().sum() > 0]"
   ]
  },
  {
   "cell_type": "code",
   "execution_count": 2178,
   "metadata": {},
   "outputs": [
    {
     "name": "stdout",
     "output_type": "stream",
     "text": [
      "Id                              0.000000\n",
      "GENR                            0.000000\n",
      "produit                         0.000000\n",
      "age du bien                    91.898898\n",
      "mode de paiement                0.000000\n",
      "montant demande (centimes)      0.000000\n",
      "delai paiement                 72.321236\n",
      "apport                         59.354072\n",
      "apport %                       59.354072\n",
      "date demande                    0.000000\n",
      "duree                           3.127025\n",
      "NO_FOUR                         0.000000\n",
      "cotation                        0.000000\n",
      "code naf                        0.000000\n",
      "alerte fraude                   0.000000\n",
      "Connu                           0.000000\n",
      "fichage                         0.000000\n",
      "incapacite                      0.000000\n",
      "segmentation                    0.000000\n",
      "existence impaye regularise    99.584143\n",
      "presence homonyme              99.956794\n",
      "Montant                        89.711601\n",
      "effets impayes                 91.358825\n",
      "montant impayes internes       99.778570\n",
      "procédure collective BdF        0.000000\n",
      "procédure collective ORT        0.000000\n",
      "age dirigeant                   0.005401\n",
      "contentieux                     0.000000\n",
      "CSP dirigeant                   0.000000\n",
      "cotation dirigeant              0.000000\n",
      "fichage1                        0.000000\n",
      "dirigeant client                0.000000\n",
      "fichage2                        0.000000\n",
      "impayes                        99.443724\n",
      "charge                         77.019875\n",
      "fichage3                       97.569669\n",
      "revenus                        71.381508\n",
      "secteur activite                0.000000\n",
      "code postal                     0.000000\n",
      "Chiffre d'affaires             91.002376\n",
      "Capital social                  6.264852\n",
      "Indicatrice                    96.138475\n",
      "Label                           0.000000\n",
      "dtype: float64\n"
     ]
    }
   ],
   "source": [
    "# pourcentage of 0 value in each column\n",
    "zero_percentage = (df == 0).mean() * 100\n",
    "print(zero_percentage)"
   ]
  },
  {
   "cell_type": "code",
   "execution_count": 2179,
   "metadata": {},
   "outputs": [],
   "source": [
    "delete_values = ['Id','date demande', 'mode de paiement', 'age du bien', 'delai paiement', 'apport %', 'existence impaye regularise', 'presence homonyme', 'Montant', 'effets impayes', 'montant impayes internes', 'impayes', 'charge', 'fichage3', 'revenus', 'Chiffre d\\'affaires', 'procédure collective ORT', 'procédure collective BdF', 'contentieux']"
   ]
  },
  {
   "cell_type": "code",
   "execution_count": 2180,
   "metadata": {},
   "outputs": [],
   "source": [
    "# remove these columns\n",
    "df = df.drop(delete_values, axis=1)"
   ]
  },
  {
   "cell_type": "code",
   "execution_count": 2181,
   "metadata": {},
   "outputs": [
    {
     "name": "stdout",
     "output_type": "stream",
     "text": [
      "GENR ['VP' 'VU' ' ']\n",
      "produit ['LLD' 'CB' 'CC' 'TP']\n",
      "alerte fraude ['N' 'O']\n",
      "Connu ['N' 'O']\n",
      "fichage ['N' 'O' ' ']\n",
      "incapacite [' ' 'N' 'O']\n",
      "segmentation [nan ' ' 'S' 'E' '4' '5' '2' '3' '6' '1']\n",
      "cotation dirigeant ['0' '40' 'ZZZZZZ' ' ' '60' '50']\n",
      "fichage1 ['N' 'O' ' ']\n",
      "dirigeant client ['N' 'O']\n",
      "fichage2 ['N' 'O' ' ']\n",
      "Indicatrice [0 1]\n",
      "Label ['Train' 'Validation']\n"
     ]
    }
   ],
   "source": [
    "# the number of unique values < 10\n",
    "less_10_unique_values = []\n",
    "\n",
    "for col in df.columns:\n",
    "    if df[col].nunique() < 10:\n",
    "        print(col, df[col].unique())\n",
    "        less_10_unique_values.append(col)"
   ]
  },
  {
   "cell_type": "code",
   "execution_count": 2182,
   "metadata": {},
   "outputs": [],
   "source": [
    "# for each of these columns plot the frequency of each value\n",
    "# for col in less_10_unique_values:\n",
    "#     sns.countplot(x=col, data=df, palette='hls')\n",
    "#     plt.show()"
   ]
  },
  {
   "cell_type": "markdown",
   "metadata": {},
   "source": [
    "On remarque que certaines colonnes contiennent des valeurs O ou N. Remplaçons les par 0 et 1 et convertissons les en int."
   ]
  },
  {
   "cell_type": "code",
   "execution_count": 2183,
   "metadata": {},
   "outputs": [],
   "source": [
    "# replace N with 0 and O with 1 in columns_2_modif\n",
    "columns_2_modif = ['alerte fraude', 'Connu', 'fichage', 'incapacite', 'fichage1', 'dirigeant client', 'fichage2']\n",
    "for col in columns_2_modif:\n",
    "    df[col] = df[col].apply(lambda x: 1 if x == 'O' else 0)\n",
    "    # convert the column to int64\n",
    "    df[col] = df[col].astype('int64')"
   ]
  },
  {
   "cell_type": "markdown",
   "metadata": {},
   "source": [
    "Here we remove rows with missing values from code postal."
   ]
  },
  {
   "cell_type": "code",
   "execution_count": 2184,
   "metadata": {},
   "outputs": [],
   "source": [
    "# show number of values in code postal where is equal to ' ' and Indicatrice is equal to 1\n",
    "remove_rows = df[(df['code postal'] == ' ') & (df['Indicatrice'] == 0)]\n",
    "# remove these rows\n",
    "df.drop(remove_rows.index, axis=0, inplace=True)"
   ]
  },
  {
   "cell_type": "code",
   "execution_count": 2185,
   "metadata": {},
   "outputs": [],
   "source": [
    "# replace values ' ' in cotation with 0\n",
    "df['cotation dirigeant'] = df['cotation dirigeant'].apply(lambda x: 0 if x == ' ' else x)\n",
    "df['GENR'] = df['GENR'].apply(lambda x: 0 if x == ' ' else x)\n",
    "\n",
    "# replace values ' ', 'S', 'E' in segmentation by 0\n",
    "df['segmentation'] = df['segmentation'].apply(lambda x: 0 if x == ' ' else x)\n",
    "df['segmentation'] = df['segmentation'].apply(lambda x: 0 if x == 'S' else x)\n",
    "df['segmentation'] = df['segmentation'].apply(lambda x: 0 if x == 'E' else x)"
   ]
  },
  {
   "cell_type": "code",
   "execution_count": 2186,
   "metadata": {},
   "outputs": [
    {
     "data": {
      "text/plain": [
       "Index(['GENR', 'produit', 'NO_FOUR', 'cotation', 'code naf', 'segmentation',\n",
       "       'CSP dirigeant', 'cotation dirigeant', 'secteur activite',\n",
       "       'code postal', 'Label'],\n",
       "      dtype='object')"
      ]
     },
     "execution_count": 2186,
     "metadata": {},
     "output_type": "execute_result"
    }
   ],
   "source": [
    "# list these columns\n",
    "df.dtypes[df.dtypes == 'object'].index"
   ]
  },
  {
   "cell_type": "code",
   "execution_count": 2187,
   "metadata": {},
   "outputs": [],
   "source": [
    "# convert categorical columns to category type\n",
    "for col in df.dtypes[df.dtypes == 'object'].index:\n",
    "    df[col] = df[col].astype('category')"
   ]
  },
  {
   "cell_type": "code",
   "execution_count": 2188,
   "metadata": {},
   "outputs": [
    {
     "name": "stdout",
     "output_type": "stream",
     "text": [
      "Number of features:  24\n",
      "Number of numerical features:  13\n",
      "Number of categorical features:  11\n"
     ]
    }
   ],
   "source": [
    "# list features by type of data and print how many features of each type\n",
    "features = df.columns\n",
    "num_features = df.select_dtypes(include=['float64', 'int64']).columns\n",
    "cat_features = df.select_dtypes(include=['category']).columns\n",
    "print('Number of features: ', len(features))\n",
    "print('Number of numerical features: ', len(num_features))\n",
    "print('Number of categorical features: ', len(cat_features))"
   ]
  },
  {
   "cell_type": "markdown",
   "metadata": {},
   "source": [
    "### Saving our dataset to csv"
   ]
  },
  {
   "cell_type": "code",
   "execution_count": 2189,
   "metadata": {},
   "outputs": [],
   "source": [
    "# save the dataframe to csv file\n",
    "#df.to_csv('data_preprocessed.csv', index=False)"
   ]
  },
  {
   "cell_type": "markdown",
   "metadata": {},
   "source": [
    "## Train and test"
   ]
  },
  {
   "cell_type": "code",
   "execution_count": 2190,
   "metadata": {},
   "outputs": [],
   "source": [
    "# Separate features and labels\n",
    "X = df.drop(['Indicatrice', 'Label'], axis=1)  # Drop the label and the split indicator columns\n",
    "y = df['Indicatrice']  # Labels\n",
    "\n",
    "# Split the data into training and validation sets\n",
    "X_train = X[df['Label'] == 'Train']\n",
    "y_train = y[df['Label'] == 'Train']\n",
    "\n",
    "X_test = X[df['Label'] == 'Validation']\n",
    "y_test = y[df['Label'] == 'Validation']"
   ]
  },
  {
   "cell_type": "markdown",
   "metadata": {},
   "source": [
    "## Première approche : XGBoost model"
   ]
  },
  {
   "cell_type": "code",
   "execution_count": 2191,
   "metadata": {},
   "outputs": [],
   "source": [
    "import xgboost as xgb\n",
    "from sklearn.metrics import accuracy_score, classification_report, roc_curve, auc"
   ]
  },
  {
   "cell_type": "code",
   "execution_count": 2192,
   "metadata": {},
   "outputs": [],
   "source": [
    "count_negatives = sum(y_train == 0)\n",
    "count_positives = sum(y_train == 1)\n",
    "\n",
    "# Calcul du scale_pos_weight\n",
    "scale_pos_weight = count_negatives / count_positives\n",
    "\n",
    "xgb_classifier = xgb.XGBClassifier(enable_categorical=True, learning_rate=0.01, max_depth=3, n_estimators=1000, scale_pos_weight=scale_pos_weight, random_state=42)\n",
    "\n",
    "# Train the model\n",
    "xgb_classifier.fit(X_train, y_train)\n",
    "\n",
    "# Predict the labels of the test set\n",
    "predictions = xgb_classifier.predict(X_test)"
   ]
  },
  {
   "cell_type": "code",
   "execution_count": 2193,
   "metadata": {},
   "outputs": [
    {
     "data": {
      "image/png": "[encoded data removed]",
      "text/plain": [
       "<Figure size 800x600 with 1 Axes>"
      ]
     },
     "metadata": {},
     "output_type": "display_data"
    }
   ],
   "source": [
    "# compute the AUC score\n",
    "y_scores = xgb_classifier.predict_proba(X_test)[:, 1]\n",
    "fpr, tpr, thresholds = roc_curve(y_test, y_scores)\n",
    "auc_score = auc(fpr, tpr)\n",
    "\n",
    "# Plot the ROC curve\n",
    "plt.figure(figsize=(8, 6))\n",
    "plt.plot(fpr, tpr, label='XGBoost (AUC = {:.2f})'.format(auc_score))\n",
    "plt.plot([0, 1], [0, 1], 'k--')\n",
    "plt.xlim([0.0, 1.0])\n",
    "plt.ylim([0.0, 1.05])\n",
    "plt.xlabel('False Positive Rate')\n",
    "plt.ylabel('True Positive Rate')\n",
    "plt.title('Receiver Operating Characteristic')\n",
    "plt.legend(loc='lower right')\n",
    "plt.show()\n"
   ]
  },
  {
   "cell_type": "code",
   "execution_count": 2194,
   "metadata": {},
   "outputs": [
    {
     "name": "stdout",
     "output_type": "stream",
     "text": [
      "              precision    recall  f1-score   support\n",
      "\n",
      "           0       0.97      0.97      0.97      6454\n",
      "           1       0.11      0.11      0.11       246\n",
      "\n",
      "    accuracy                           0.94      6700\n",
      "   macro avg       0.54      0.54      0.54      6700\n",
      "weighted avg       0.93      0.94      0.94      6700\n",
      "\n"
     ]
    }
   ],
   "source": [
    "# print the recall\n",
    "print(classification_report(y_test, predictions))"
   ]
  },
  {
   "cell_type": "code",
   "execution_count": 2195,
   "metadata": {},
   "outputs": [
    {
     "name": "stdout",
     "output_type": "stream",
     "text": [
      "[[6245  209]\n",
      " [ 219   27]]\n"
     ]
    },
    {
     "data": {
      "image/png": "[encoded data removed]",
      "text/plain": [
       "<Figure size 640x480 with 2 Axes>"
      ]
     },
     "metadata": {},
     "output_type": "display_data"
    }
   ],
   "source": [
    "# compute the confusion matrix\n",
    "from sklearn.metrics import confusion_matrix\n",
    "cm = confusion_matrix(y_test, predictions)\n",
    "print(cm)\n",
    "\n",
    "# plot the confusion matrix\n",
    "import seaborn as sns\n",
    "sns.heatmap(cm, annot=True, fmt='g', cmap='Blues')\n",
    "plt.xlabel('Predicted class')\n",
    "plt.ylabel('True class')\n",
    "plt.show()\n"
   ]
  },
  {
   "cell_type": "markdown",
   "metadata": {},
   "source": [
    "# 2ème approche: BalancedBaggingClassifier"
   ]
  },
  {
   "cell_type": "code",
   "execution_count": 2196,
   "metadata": {},
   "outputs": [],
   "source": [
    "# load the dataset\n",
    "df_2 = pd.read_csv('Data_Finance_TrainEtVal_13Nov23.csv', sep=';')"
   ]
  },
  {
   "cell_type": "code",
   "execution_count": 2197,
   "metadata": {},
   "outputs": [
    {
     "name": "stdout",
     "output_type": "stream",
     "text": [
      "existence impaye regularise    99.584143\n",
      "presence homonyme              99.956794\n",
      "montant impayes internes       99.778570\n",
      "impayes                        99.443724\n",
      "fichage3                       97.569669\n",
      "Indicatrice                    96.138475\n",
      "dtype: float64\n"
     ]
    }
   ],
   "source": [
    "# fill all Nan values in segmentation with '0'\n",
    "df_2['segmentation'] = df_2['segmentation'].fillna('0')\n",
    "\n",
    "zero_percentage = (df_2 == 0).mean() * 100\n",
    "# print columns where percentage of 0 values is greater than 90%\n",
    "print(zero_percentage[zero_percentage > 95])"
   ]
  },
  {
   "cell_type": "code",
   "execution_count": 2198,
   "metadata": {},
   "outputs": [
    {
     "data": {
      "text/html": [
       "<div>\n",
       "<style scoped>\n",
       "    .dataframe tbody tr th:only-of-type {\n",
       "        vertical-align: middle;\n",
       "    }\n",
       "\n",
       "    .dataframe tbody tr th {\n",
       "        vertical-align: top;\n",
       "    }\n",
       "\n",
       "    .dataframe thead th {\n",
       "        text-align: right;\n",
       "    }\n",
       "</style>\n",
       "<table border=\"1\" class=\"dataframe\">\n",
       "  <thead>\n",
       "    <tr style=\"text-align: right;\">\n",
       "      <th></th>\n",
       "      <th>GENR</th>\n",
       "      <th>produit</th>\n",
       "      <th>age du bien</th>\n",
       "      <th>mode de paiement</th>\n",
       "      <th>montant demande (centimes)</th>\n",
       "      <th>delai paiement</th>\n",
       "      <th>apport</th>\n",
       "      <th>apport %</th>\n",
       "      <th>duree</th>\n",
       "      <th>cotation</th>\n",
       "      <th>...</th>\n",
       "      <th>fichage1</th>\n",
       "      <th>dirigeant client</th>\n",
       "      <th>fichage2</th>\n",
       "      <th>charge</th>\n",
       "      <th>revenus</th>\n",
       "      <th>secteur activite</th>\n",
       "      <th>Chiffre d'affaires</th>\n",
       "      <th>Capital social</th>\n",
       "      <th>Indicatrice</th>\n",
       "      <th>Label</th>\n",
       "    </tr>\n",
       "  </thead>\n",
       "  <tbody>\n",
       "    <tr>\n",
       "      <th>0</th>\n",
       "      <td>VP</td>\n",
       "      <td>LLD</td>\n",
       "      <td>0</td>\n",
       "      <td>10</td>\n",
       "      <td>4967310</td>\n",
       "      <td>10</td>\n",
       "      <td>0</td>\n",
       "      <td>0.0</td>\n",
       "      <td>12</td>\n",
       "      <td>X0</td>\n",
       "      <td>...</td>\n",
       "      <td>N</td>\n",
       "      <td>N</td>\n",
       "      <td>N</td>\n",
       "      <td>0</td>\n",
       "      <td>0</td>\n",
       "      <td>77</td>\n",
       "      <td>0</td>\n",
       "      <td>200000</td>\n",
       "      <td>0</td>\n",
       "      <td>Train</td>\n",
       "    </tr>\n",
       "    <tr>\n",
       "      <th>1</th>\n",
       "      <td>VP</td>\n",
       "      <td>CB</td>\n",
       "      <td>0</td>\n",
       "      <td>10</td>\n",
       "      <td>1228763</td>\n",
       "      <td>0</td>\n",
       "      <td>245753</td>\n",
       "      <td>20.0</td>\n",
       "      <td>60</td>\n",
       "      <td>X0</td>\n",
       "      <td>...</td>\n",
       "      <td>N</td>\n",
       "      <td>N</td>\n",
       "      <td>N</td>\n",
       "      <td>0</td>\n",
       "      <td>100000</td>\n",
       "      <td>41</td>\n",
       "      <td>0</td>\n",
       "      <td>750000</td>\n",
       "      <td>0</td>\n",
       "      <td>Train</td>\n",
       "    </tr>\n",
       "    <tr>\n",
       "      <th>2</th>\n",
       "      <td>VU</td>\n",
       "      <td>CB</td>\n",
       "      <td>0</td>\n",
       "      <td>10</td>\n",
       "      <td>1262250</td>\n",
       "      <td>0</td>\n",
       "      <td>189338</td>\n",
       "      <td>15.0</td>\n",
       "      <td>60</td>\n",
       "      <td>X0</td>\n",
       "      <td>...</td>\n",
       "      <td>N</td>\n",
       "      <td>N</td>\n",
       "      <td>N</td>\n",
       "      <td>0</td>\n",
       "      <td>100000</td>\n",
       "      <td>43</td>\n",
       "      <td>0</td>\n",
       "      <td>500000</td>\n",
       "      <td>0</td>\n",
       "      <td>Train</td>\n",
       "    </tr>\n",
       "    <tr>\n",
       "      <th>3</th>\n",
       "      <td></td>\n",
       "      <td>LLD</td>\n",
       "      <td>0</td>\n",
       "      <td>10</td>\n",
       "      <td>1500000</td>\n",
       "      <td>10</td>\n",
       "      <td>0</td>\n",
       "      <td>0.0</td>\n",
       "      <td>23</td>\n",
       "      <td>X0</td>\n",
       "      <td>...</td>\n",
       "      <td>N</td>\n",
       "      <td>O</td>\n",
       "      <td>N</td>\n",
       "      <td>0</td>\n",
       "      <td>400000</td>\n",
       "      <td>66</td>\n",
       "      <td>0</td>\n",
       "      <td>1000000</td>\n",
       "      <td>0</td>\n",
       "      <td>Train</td>\n",
       "    </tr>\n",
       "    <tr>\n",
       "      <th>4</th>\n",
       "      <td>VU</td>\n",
       "      <td>LLD</td>\n",
       "      <td>0</td>\n",
       "      <td>10</td>\n",
       "      <td>2393850</td>\n",
       "      <td>10</td>\n",
       "      <td>0</td>\n",
       "      <td>0.0</td>\n",
       "      <td>36</td>\n",
       "      <td>X0</td>\n",
       "      <td>...</td>\n",
       "      <td>N</td>\n",
       "      <td>N</td>\n",
       "      <td>N</td>\n",
       "      <td>0</td>\n",
       "      <td>300000</td>\n",
       "      <td>49</td>\n",
       "      <td>0</td>\n",
       "      <td>750000</td>\n",
       "      <td>0</td>\n",
       "      <td>Train</td>\n",
       "    </tr>\n",
       "  </tbody>\n",
       "</table>\n",
       "<p>5 rows × 33 columns</p>\n",
       "</div>"
      ],
      "text/plain": [
       "  GENR produit  age du bien  mode de paiement  montant demande (centimes)  \\\n",
       "0   VP     LLD            0                10                     4967310   \n",
       "1   VP      CB            0                10                     1228763   \n",
       "2   VU      CB            0                10                     1262250   \n",
       "3          LLD            0                10                     1500000   \n",
       "4   VU     LLD            0                10                     2393850   \n",
       "\n",
       "   delai paiement  apport  apport %  duree cotation  ... fichage1  \\\n",
       "0              10       0       0.0     12       X0  ...        N   \n",
       "1               0  245753      20.0     60       X0  ...        N   \n",
       "2               0  189338      15.0     60       X0  ...        N   \n",
       "3              10       0       0.0     23       X0  ...        N   \n",
       "4              10       0       0.0     36       X0  ...        N   \n",
       "\n",
       "  dirigeant client fichage2 charge revenus  secteur activite  \\\n",
       "0                N        N      0       0                77   \n",
       "1                N        N      0  100000                41   \n",
       "2                N        N      0  100000                43   \n",
       "3                O        N      0  400000                66   \n",
       "4                N        N      0  300000                49   \n",
       "\n",
       "   Chiffre d'affaires Capital social Indicatrice  Label  \n",
       "0                   0         200000           0  Train  \n",
       "1                   0         750000           0  Train  \n",
       "2                   0         500000           0  Train  \n",
       "3                   0        1000000           0  Train  \n",
       "4                   0         750000           0  Train  \n",
       "\n",
       "[5 rows x 33 columns]"
      ]
     },
     "execution_count": 2198,
     "metadata": {},
     "output_type": "execute_result"
    }
   ],
   "source": [
    "# delete useless columns\n",
    "df_2.drop(['Id','code naf', 'NO_FOUR', 'code postal', 'date demande', 'presence homonyme', 'montant impayes internes', 'existence impaye regularise', 'impayes', 'fichage3'], axis=1, inplace=True)\n",
    "\n",
    "df_2.head()"
   ]
  },
  {
   "cell_type": "markdown",
   "metadata": {},
   "source": [
    "## Pretreatment"
   ]
  },
  {
   "cell_type": "code",
   "execution_count": 2199,
   "metadata": {},
   "outputs": [],
   "source": [
    "# replace N with 0 and O with 1 in columns_2_modif\n",
    "columns_2_modif = ['alerte fraude', 'Connu', 'fichage', 'incapacite', 'fichage1', 'dirigeant client', 'fichage2']\n",
    "for col in columns_2_modif:\n",
    "    df_2[col] = df_2[col].apply(lambda x: 1 if x == 'O' else 0)\n",
    "    # convert the column to int64\n",
    "    df_2[col] = df_2[col].astype('int64')\n",
    "\n",
    "# replace 'ZZZZZZ' value in cotation dirigeant with 0\n",
    "df_2['cotation dirigeant'] = df_2['cotation dirigeant'].apply(lambda x: 0 if x == 'ZZZZZZ' else x)\n",
    "\n",
    "# replace ' ' in CSP dirigeant with the most frequent value\n",
    "df_2['CSP dirigeant'] = df_2['CSP dirigeant'].apply(lambda x: 0 if x == ' ' else x)\n",
    "\n",
    "# replace ' ' in GENR with the most frequent value\n",
    "df_2['GENR'] = df_2['GENR'].apply(lambda x: 0 if x == ' ' else x)"
   ]
  },
  {
   "cell_type": "code",
   "execution_count": 2200,
   "metadata": {},
   "outputs": [
    {
     "data": {
      "text/plain": [
       "Index(['GENR', 'produit', 'cotation', 'segmentation',\n",
       "       'procédure collective BdF', 'procédure collective ORT', 'contentieux',\n",
       "       'CSP dirigeant', 'cotation dirigeant', 'secteur activite'],\n",
       "      dtype='object')"
      ]
     },
     "execution_count": 2200,
     "metadata": {},
     "output_type": "execute_result"
    }
   ],
   "source": [
    "cat_features = df_2.select_dtypes(include=['object']).columns\n",
    "# remove label \n",
    "cat_features = cat_features.drop('Label')\n",
    "cat_features"
   ]
  },
  {
   "cell_type": "markdown",
   "metadata": {},
   "source": [
    "### One hot encoding"
   ]
  },
  {
   "cell_type": "code",
   "execution_count": 2201,
   "metadata": {},
   "outputs": [],
   "source": [
    "# one hot encode only categorical features in df_2 \n",
    "df_2 = pd.get_dummies(df_2, columns=cat_features, drop_first=True)"
   ]
  },
  {
   "cell_type": "markdown",
   "metadata": {},
   "source": [
    "StandardScaler nous permet de centrer et réduire les données."
   ]
  },
  {
   "cell_type": "code",
   "execution_count": 2202,
   "metadata": {},
   "outputs": [],
   "source": [
    "# apply standard scaler on all columns of our dataframe but the label and indicatrice\n",
    "from sklearn.preprocessing import StandardScaler\n",
    "scaler = StandardScaler()\n",
    "# remove label and indicatrice\n",
    "num_features = df_2.select_dtypes(include=['float64', 'int64']).columns\n",
    "num_features = num_features.drop(['Indicatrice'])\n",
    "df_2[num_features] = scaler.fit_transform(df_2[num_features])\n"
   ]
  },
  {
   "cell_type": "markdown",
   "metadata": {},
   "source": [
    "Splitting the dataset into the Training set and Test set"
   ]
  },
  {
   "cell_type": "code",
   "execution_count": 2203,
   "metadata": {},
   "outputs": [],
   "source": [
    "X = df_2.drop(['Indicatrice', 'Label'], axis=1)  # Drop the label and the split indicator columns\n",
    "y = df_2['Indicatrice']  # Labels\n",
    "\n",
    "# Split the data into training and validation sets\n",
    "X_train = X[df_2['Label'] == 'Train']\n",
    "y_train = y[df_2['Label'] == 'Train']\n",
    "\n",
    "X_test = X[df_2['Label'] == 'Validation']\n",
    "y_test = y[df_2['Label'] == 'Validation']"
   ]
  },
  {
   "cell_type": "code",
   "execution_count": 2204,
   "metadata": {},
   "outputs": [],
   "source": [
    "from imblearn.ensemble import BalancedBaggingClassifier\n",
    "from xgboost import XGBClassifier\n",
    "\n",
    "xbc = XGBClassifier(learning_rate=0.1, max_depth=3, n_estimators=100, random_state=42)\n",
    "\n",
    "# Créer le modèle BalancedBaggingClassifier\n",
    "bbc = BalancedBaggingClassifier(estimator=xbc, sampling_strategy='auto', replacement=True, random_state=42)\n",
    "\n",
    "# Entraîner le modèle\n",
    "bbc.fit(X_train, y_train)\n",
    "\n",
    "# Faire des prédictions\n",
    "y_pred = bbc.predict(X_test)"
   ]
  },
  {
   "cell_type": "code",
   "execution_count": 2205,
   "metadata": {},
   "outputs": [
    {
     "data": {
      "image/png": "[encoded data removed]",
      "text/plain": [
       "<Figure size 800x600 with 1 Axes>"
      ]
     },
     "metadata": {},
     "output_type": "display_data"
    }
   ],
   "source": [
    "# compute the AUC score\n",
    "y_scores = bbc.predict_proba(X_test)[:, 1]\n",
    "fpr, tpr, thresholds = roc_curve(y_test, y_scores)\n",
    "auc_score = auc(fpr, tpr)\n",
    "\n",
    "# Plot the ROC curve\n",
    "plt.figure(figsize=(8, 6))\n",
    "plt.plot(fpr, tpr, label='BalancedBaggingClassifier (AUC = {:.2f})'.format(auc_score))\n",
    "plt.plot([0, 1], [0, 1], 'k--')\n",
    "plt.xlim([0.0, 1.0])\n",
    "plt.ylim([0.0, 1.05])\n",
    "plt.xlabel('False Positive Rate')\n",
    "plt.ylabel('True Positive Rate')\n",
    "plt.title('Receiver Operating Characteristic')\n",
    "plt.legend(loc='lower right')\n",
    "plt.show()\n"
   ]
  },
  {
   "cell_type": "code",
   "execution_count": 2206,
   "metadata": {},
   "outputs": [
    {
     "name": "stdout",
     "output_type": "stream",
     "text": [
      "              precision    recall  f1-score   support\n",
      "\n",
      "           0       0.98      0.69      0.81      6466\n",
      "           1       0.08      0.66      0.14       246\n",
      "\n",
      "    accuracy                           0.69      6712\n",
      "   macro avg       0.53      0.68      0.47      6712\n",
      "weighted avg       0.95      0.69      0.79      6712\n",
      "\n",
      "[[4485 1981]\n",
      " [  83  163]]\n"
     ]
    },
    {
     "data": {
      "image/png": "[encoded data removed]",
      "text/plain": [
       "<Figure size 640x480 with 2 Axes>"
      ]
     },
     "metadata": {},
     "output_type": "display_data"
    }
   ],
   "source": [
    "# print the results\n",
    "print(classification_report(y_test, y_pred))\n",
    "\n",
    "# compute the confusion matrix\n",
    "from sklearn.metrics import confusion_matrix\n",
    "cm = confusion_matrix(y_test, y_pred)\n",
    "print(cm)\n",
    "\n",
    "cm_percentage = cm.astype('float') / cm.sum(axis=1)[:, np.newaxis]\n",
    "\n",
    "# plot the confusion matrix\n",
    "import seaborn as sns\n",
    "sns.heatmap(cm_percentage, annot=True, fmt='.2%', cmap='Blues')\n",
    "plt.xlabel('Predicted class')\n",
    "plt.ylabel('True class')\n",
    "plt.show()\n"
   ]
  }
 ],
 "metadata": {
  "kernelspec": {
   "display_name": "dev",
   "language": "python",
   "name": "python3"
  },
  "language_info": {
   "codemirror_mode": {
    "name": "ipython",
    "version": 3
   },
   "file_extension": ".py",
   "mimetype": "text/x-python",
   "name": "python",
   "nbconvert_exporter": "python",
   "pygments_lexer": "ipython3",
   "version": "3.10.10"
  }
 },
 "nbformat": 4,
 "nbformat_minor": 2
}
